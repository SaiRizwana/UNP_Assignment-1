{
  "nbformat": 4,
  "nbformat_minor": 0,
  "metadata": {
    "colab": {
      "name": "Assignment-1.ipynb",
      "provenance": [],
      "collapsed_sections": []
    },
    "kernelspec": {
      "name": "python3",
      "display_name": "Python 3"
    },
    "language_info": {
      "name": "python"
    }
  },
  "cells": [
    {
      "cell_type": "markdown",
      "source": [
        "Let's solve a few problems to sharpen your coding skill.<br>\n",
        "You can code in the cell following the problem statement."
      ],
      "metadata": {
        "id": "hmYrhduIsDBK"
      }
    },
    {
      "cell_type": "code",
      "source": [
        ""
      ],
      "metadata": {
        "id": "XWx7H3-LVStj"
      },
      "execution_count": null,
      "outputs": []
    },
    {
      "cell_type": "markdown",
      "source": [
        "**Problem-1**<br>\n",
        "Your friend measures his body temperature using a thermometer and finds the<br> reading to be 100 degree Farenheit. Can you please let us know the reading in Celsius scale?"
      ],
      "metadata": {
        "id": "VH4pr19psa3T"
      }
    },
    {
      "cell_type": "code",
      "source": [
        "F=100\n",
        "C=((F-32)*5)/9\n",
        "print(C)"
      ],
      "metadata": {
        "id": "r2yJkjp6tmXW",
        "colab": {
          "base_uri": "https://localhost:8080/"
        },
        "outputId": "e15de886-d35f-4662-9631-fe9cac643766"
      },
      "execution_count": null,
      "outputs": [
        {
          "output_type": "stream",
          "name": "stdout",
          "text": [
            "37.77777777777778\n"
          ]
        }
      ]
    },
    {
      "cell_type": "markdown",
      "source": [
        "**Problem-2**<br>\n",
        "The cost of producing x unit of item in a factory is y. Cost y is related<br> to unit x by the following formula <br>\n",
        "y= a*x^2+b*x+c where<br>\n",
        "a, b, c are constants having value 2, 5, 1020 respectively.<br>\n",
        "In this text (not in python language) ^ represents raised to the power.<br>\n",
        "If management wants to produce 10,000 quantities of product, please let us know<br> the average manufacturing cost for a single item.\n"
      ],
      "metadata": {
        "id": "1BuMZENotxDK"
      }
    },
    {
      "cell_type": "code",
      "source": [
        "X=10000\n",
        "a=2\n",
        "b=5\n",
        "c=1020\n",
        "y=(a*(X**2))+(b*X)+c\n",
        "z=y/X\n",
        "print(z)"
      ],
      "metadata": {
        "id": "ujMqe7d5xcv7",
        "colab": {
          "base_uri": "https://localhost:8080/"
        },
        "outputId": "923338f9-21fe-44ca-aed4-44eb619b5fa1"
      },
      "execution_count": 1,
      "outputs": [
        {
          "output_type": "stream",
          "name": "stdout",
          "text": [
            "20005.102\n"
          ]
        }
      ]
    }
  ]
}